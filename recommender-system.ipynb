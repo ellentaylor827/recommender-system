{
  "cells": [
    {
      "cell_type": "code",
      "source": [
        "!pip install python-dotenv\n",
        "!git init\n",
        "!touch .gitignore\n",
        "!echo \"info.env\" >> .gitignore\n",
        "!git check-ignore -v .env\n"
      ],
      "metadata": {
        "colab": {
          "base_uri": "https://localhost:8080/"
        },
        "collapsed": true,
        "id": "0LSBa-GcHBnG",
        "outputId": "04d2026f-9dbe-4f51-f22b-582346b7a6b6"
      },
      "execution_count": 1,
      "outputs": [
        {
          "output_type": "stream",
          "name": "stdout",
          "text": [
            "Collecting python-dotenv\n",
            "  Downloading python_dotenv-1.0.1-py3-none-any.whl.metadata (23 kB)\n",
            "Downloading python_dotenv-1.0.1-py3-none-any.whl (19 kB)\n",
            "Installing collected packages: python-dotenv\n",
            "Successfully installed python-dotenv-1.0.1\n",
            "\u001b[33mhint: Using 'master' as the name for the initial branch. This default branch name\u001b[m\n",
            "\u001b[33mhint: is subject to change. To configure the initial branch name to use in all\u001b[m\n",
            "\u001b[33mhint: of your new repositories, which will suppress this warning, call:\u001b[m\n",
            "\u001b[33mhint: \u001b[m\n",
            "\u001b[33mhint: \tgit config --global init.defaultBranch <name>\u001b[m\n",
            "\u001b[33mhint: \u001b[m\n",
            "\u001b[33mhint: Names commonly chosen instead of 'master' are 'main', 'trunk' and\u001b[m\n",
            "\u001b[33mhint: 'development'. The just-created branch can be renamed via this command:\u001b[m\n",
            "\u001b[33mhint: \u001b[m\n",
            "\u001b[33mhint: \tgit branch -m <name>\u001b[m\n",
            "Initialized empty Git repository in /content/.git/\n"
          ]
        }
      ]
    },
    {
      "cell_type": "code",
      "execution_count": 8,
      "metadata": {
        "colab": {
          "base_uri": "https://localhost:8080/"
        },
        "id": "fjDadBzCFVx_",
        "outputId": "47709c37-835e-40a2-8ff5-7af3d8192bf2"
      },
      "outputs": [
        {
          "output_type": "stream",
          "name": "stdout",
          "text": [
            "No yarn weight recorded\n",
            "No yarn weight recorded\n",
            "No yarn weight recorded\n",
            "No yarn weight recorded\n"
          ]
        }
      ],
      "source": [
        "import pandas as pd\n",
        "import http.client\n",
        "import json\n",
        "import requests\n",
        "import os\n",
        "from dotenv import load_dotenv\n",
        "import re\n",
        "\n",
        "# Load environment variables\n",
        "load_dotenv(\"info.env\")\n",
        "\n",
        "# Access credentials\n",
        "authUsername = os.getenv(\"API_USERNAME\")\n",
        "authPassword = os.getenv(\"API_PASSWORD\")\n",
        "\n",
        "###Pre-filtering based on inventory###\n",
        "# Search based on specific filters\n",
        "page = 9\n",
        "page_size = 100\n",
        "craft = 'crochet'\n",
        "knit_gauge = 5\n",
        "weight = 'DK'\n",
        "query = 'bear'\n",
        "\n",
        "# Define URL for the API request\n",
        "url = 'https://api.ravelry.com/patterns/search.json?page={}&page_size={}&craft={}'.format(page, page_size, craft)\n",
        "# Make request\n",
        "r = requests.get(url, auth=requests.auth.HTTPBasicAuth(authUsername, authPassword))\n",
        "# Close connection\n",
        "r.close()\n",
        "\n",
        "\n",
        "def getPatterns():\n",
        "  yarndf = pd.DataFrame()\n",
        "  keydf = pd.DataFrame()\n",
        "  if r.status_code == 200:\n",
        "      data = r.json()\n",
        "      # Extract pattern ID(s) from the search results\n",
        "      if 'patterns' in data and len(data['patterns']) > 0:\n",
        "        for i in range(len(data['patterns'])):\n",
        "            pattern_id = data['patterns'][i]['id']\n",
        "\n",
        "            # Define URL to get pattern details\n",
        "            pattern_url = f'https://api.ravelry.com/patterns/{pattern_id}.json'\n",
        "\n",
        "            # Make the request for pattern details\n",
        "            pattern_response = requests.get(pattern_url, auth=requests.auth.HTTPBasicAuth(authUsername, authPassword))\n",
        "            pattern_response.close()\n",
        "\n",
        "            # If patterns found, collect the necessary yarn info\n",
        "            if pattern_response.status_code == 200:\n",
        "                pattern_data = pattern_response.json()\n",
        "                try:\n",
        "                  #print(json.dumps(json.loads(pattern_response.text), indent=4))\n",
        "                  yarnData = pattern_data['pattern']['yarn_weight']\n",
        "\n",
        "                  # Extract yardage for minimum/maximums\n",
        "                  yardage = ['0', '0']\n",
        "                  extracted = re.findall(r'\\d+', pattern_data['pattern']['yardage_description'])\n",
        "\n",
        "                  if len(extracted) == 2:\n",
        "                    yardage = extracted\n",
        "                  elif len(extracted) == 1:\n",
        "                    yardage[0] = extracted[0]\n",
        "                    yardage[1] = extracted[0]\n",
        "\n",
        "                  # Get project name and add all to dataframe\n",
        "                  yarndf = pd.concat([yarndf, pd.DataFrame([{'Project name': pattern_data['pattern']['name'],\n",
        "                                                            'Yarn id': yarnData['id'],\n",
        "                                                            'Crochet gauge': yarnData['crochet_gauge'],\n",
        "                                                            'Knit gauge': yarnData['knit_gauge'],\n",
        "                                                            'Yarn name': yarnData['name'],\n",
        "                                                            'ply': yarnData['ply'], 'wpi': yarnData['wpi'],\n",
        "                                                            'Min yardage': int(yardage[0]),\n",
        "                                                            'Max yardage': int(yardage[1])}])], ignore_index=True)\n",
        "\n",
        "                  # Get key information from pattern details for recommender\n",
        "                  keydf = pd.concat([keydf, pd.DataFrame([{'Project name': pattern_data['pattern']['name'],\n",
        "                                                          'Project id': pattern_data['pattern']['id'],\n",
        "                                                          'Difficulty average': pattern_data['pattern']['difficulty_average'],\n",
        "                                                          'UK': pattern_data['pattern']['has_uk_terminology'],\n",
        "                                                          'US' : pattern_data['pattern']['has_us_terminology']}])], ignore_index=True)\n",
        "                except:\n",
        "                  print(\"No yarn weight recorded\")\n",
        "      else:\n",
        "        print(\"No patterns found\")\n",
        "  else:\n",
        "    print(\"Unable to access patterns\")\n",
        "\n",
        "  keydf = keydf.merge(yarndf, on='Project name')\n",
        "  return keydf\n",
        "\n",
        "\n",
        "def fetchInventory():\n",
        "  # Open stored inventory into dataframe\n",
        "  with open(\"inventory.json\", \"r\") as file:\n",
        "    inventory = json.load(file)\n",
        "    inv = pd.DataFrame(inventory)\n",
        "    groupedInv = inv.groupby(['Yarn name','ply', 'wpi', 'Total yardage']).agg(\n",
        "        min_yardage=('Total yardage', 'min'),\n",
        "        max_yardage=('Total yardage', 'max')).reset_index()\n",
        "\n",
        "    print(groupedInv)\n",
        "    return groupedInv\n",
        "\n",
        "def filterPatterns(groupedInv, patterns):\n",
        "  # Filters patterns for yarn available in inventory\n",
        "  filtereddf = patterns[patterns['Yarn name'].isin(groupedInv['Yarn name'])]\n",
        "  finaldf = pd.DataFrame(columns = patterns.columns)\n",
        "  for idx, row in filtereddf.iterrows():\n",
        "    rowYardage = row['Max yardage']\n",
        "    maxYardage = int(max(groupedInv.loc[groupedInv['Yarn name'] == row['Yarn name'], 'max_yardage'].values))\n",
        "\n",
        "    if (rowYardage > 0) & (rowYardage <= maxYardage):\n",
        "      # Directly adds if empty for future compatibility\n",
        "      if finaldf.empty:\n",
        "        finaldf = pd.DataFrame([row])\n",
        "      else:\n",
        "        finaldf = pd.concat([finaldf, pd.DataFrame([row])], ignore_index = True)\n",
        "\n",
        "  print(finaldf)\n",
        "\n",
        "patterns = getPatterns()\n"
      ]
    },
    {
      "cell_type": "code",
      "source": [
        "groupedInv = fetchInventory()\n",
        "filterPatterns(groupedInv, patterns)"
      ],
      "metadata": {
        "id": "yguGHnCiWGV3",
        "outputId": "843b2203-37fd-473b-b382-e8051f1ddd7e",
        "colab": {
          "base_uri": "https://localhost:8080/"
        }
      },
      "execution_count": 9,
      "outputs": [
        {
          "output_type": "stream",
          "name": "stdout",
          "text": [
            "   Yarn name  ply  wpi  Total yardage  min_yardage  max_yardage\n",
            "0         DK    8   11            500          500          500\n",
            "1         DK    8   11           1500         1500         1500\n",
            "2         DK    8   12            200          200          200\n",
            "3  Fingering    4   14            800          800          800\n",
            "                   Project name  Project id  Difficulty average     UK     US  \\\n",
            "0               Rainbow Sweater     1370692            2.545455   None   True   \n",
            "1                 Afternoon Tea     7352835            5.428571  False   True   \n",
            "2                 Karma Coaster     7386414            2.000000   None   True   \n",
            "3                  Bias DK Wrap     7401213            0.000000   None   True   \n",
            "4   Luna the Labrador Retriever     7403782            0.000000   None   True   \n",
            "5           Valentine Love Hugs     7406457            2.666667   True   True   \n",
            "6     Easter Mini Egg Pouch Bag     7406569            0.000000   True  False   \n",
            "7            Love is in the Air     7407698            0.000000  False   True   \n",
            "8                  Star Blanket      257188            2.101089   None   True   \n",
            "9          Pew the baby penguin     1091842            2.571429  False   True   \n",
            "10             Carnation Flower     1224766            2.052632  False   True   \n",
            "11   Offensive Dish Cloth - FDS     1293878            2.611111   None   True   \n",
            "12          Bell flower coaster     1340100            2.500000   None   True   \n",
            "13         Grand Arches Bandana     7352139            2.857143   None   True   \n",
            "14                  Egan's Puff     7363885            2.857143   True   True   \n",
            "15    Yuletide Mosaic Stockings     7387288            0.000000   None   True   \n",
            "\n",
            "    Yarn id Crochet gauge Knit gauge  Yarn name ply wpi  Min yardage  \\\n",
            "0        11          None         22         DK   8  11          476   \n",
            "1         5                       28  Fingering   4  14          231   \n",
            "2        11          None         22         DK   8  11           50   \n",
            "3        11          None         22         DK   8  11         1000   \n",
            "4        11          None         22         DK   8  11          280   \n",
            "5        11          None         22         DK   8  11          100   \n",
            "6        11          None         22         DK   8  11           39   \n",
            "7         5                       28  Fingering   4  14          300   \n",
            "8        11          None         22         DK   8  11         1241   \n",
            "9        11          None         22         DK   8  11           44   \n",
            "10       11          None         22         DK   8  11           18   \n",
            "11       11          None         22         DK   8  11           60   \n",
            "12        5                       28  Fingering   4  14           20   \n",
            "13        5                       28  Fingering   4  14          153   \n",
            "14       11          None         22         DK   8  11           50   \n",
            "15       11          None         22         DK   8  11          385   \n",
            "\n",
            "    Max yardage  \n",
            "0           950  \n",
            "1           231  \n",
            "2            60  \n",
            "3          1200  \n",
            "4           320  \n",
            "5           120  \n",
            "6            44  \n",
            "7           370  \n",
            "8          1241  \n",
            "9            55  \n",
            "10           20  \n",
            "11           80  \n",
            "12           50  \n",
            "13          180  \n",
            "14           50  \n",
            "15          425  \n"
          ]
        }
      ]
    },
    {
      "cell_type": "code",
      "source": [
        "### Basic recommender ###\n",
        "# Take the last 5 patterns saved by the user and use the average calculated metrics to then recommend\n",
        "# In release, should use the saved and completed patterns\n",
        "\n",
        "\n"
      ],
      "metadata": {
        "id": "i4fUQJH1WX5R"
      },
      "execution_count": null,
      "outputs": []
    }
  ],
  "metadata": {
    "language_info": {
      "name": "python"
    },
    "colab": {
      "provenance": []
    },
    "kernelspec": {
      "name": "python3",
      "display_name": "Python 3"
    }
  },
  "nbformat": 4,
  "nbformat_minor": 0
}