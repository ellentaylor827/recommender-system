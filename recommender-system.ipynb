{
  "cells": [
    {
      "cell_type": "code",
      "source": [
        "!pip install python-dotenv\n",
        "!git init\n",
        "!touch .gitignore\n",
        "!echo \"info.env\" >> .gitignore\n",
        "!git check-ignore -v .env\n"
      ],
      "metadata": {
        "colab": {
          "base_uri": "https://localhost:8080/"
        },
        "collapsed": true,
        "id": "0LSBa-GcHBnG",
        "outputId": "5f976640-0ff3-4be1-ec98-4bf2c1bbc494"
      },
      "execution_count": 8,
      "outputs": [
        {
          "output_type": "stream",
          "name": "stdout",
          "text": [
            "Requirement already satisfied: python-dotenv in /usr/local/lib/python3.11/dist-packages (1.0.1)\n",
            "Reinitialized existing Git repository in /content/.git/\n"
          ]
        }
      ]
    },
    {
      "cell_type": "code",
      "execution_count": 93,
      "metadata": {
        "colab": {
          "base_uri": "https://localhost:8080/"
        },
        "id": "fjDadBzCFVx_",
        "outputId": "3e545e0a-b3b9-486e-cbe3-d48831bdce0b"
      },
      "outputs": [
        {
          "output_type": "stream",
          "name": "stdout",
          "text": [
            "response code: <Response [200]>\n",
            "response code Details: <generator object Response.iter_lines at 0x7875039f1240>\n",
            "response output:\n",
            "{\"color_families\": [{\"color\":null,\"id\":1,\"name\":\"Yellow\",\"permalink\":\"Yellow\",\"spectrum_order\":1},{\"color\":null,\"id\":2,\"name\":\"Yellow-orange\",\"permalink\":\"Yellow-orange\",\"spectrum_order\":2},{\"color\":null,\"id\":3,\"name\":\"Orange\",\"permalink\":\"Orange\",\"spectrum_order\":3},{\"color\":null,\"id\":4,\"name\":\"Red-orange\",\"permalink\":\"Red-orange\",\"spectrum_order\":4},{\"color\":null,\"id\":5,\"name\":\"Red\",\"permalink\":\"Red\",\"spectrum_order\":5},{\"color\":null,\"id\":6,\"name\":\"Red-purple\",\"permalink\":\"Red-purple\",\"spectrum_order\":0},{\"color\":null,\"id\":7,\"name\":\"Purple\",\"permalink\":\"Purple\",\"spectrum_order\":8},{\"color\":null,\"id\":8,\"name\":\"Blue-purple\",\"permalink\":\"Blue-purple\",\"spectrum_order\":9},{\"color\":null,\"id\":9,\"name\":\"Blue\",\"permalink\":\"Blue\",\"spectrum_order\":10},{\"color\":null,\"id\":10,\"name\":\"Blue-green\",\"permalink\":\"Blue-green\",\"spectrum_order\":11},{\"color\":null,\"id\":11,\"name\":\"Green\",\"permalink\":\"Green\",\"spectrum_order\":12},{\"color\":null,\"id\":12,\"name\":\"Yellow-green\",\"permalink\":\"Yellow-green\",\"spectrum_order\":13},{\"color\":null,\"id\":13,\"name\":\"Black\",\"permalink\":\"Black\",\"spectrum_order\":14},{\"color\":null,\"id\":14,\"name\":\"White\",\"permalink\":\"White\",\"spectrum_order\":15},{\"color\":null,\"id\":15,\"name\":\"Gray\",\"permalink\":\"Gray\",\"spectrum_order\":16},{\"color\":null,\"id\":16,\"name\":\"Brown\",\"permalink\":\"Brown\",\"spectrum_order\":17},{\"color\":null,\"id\":17,\"name\":\"Pink\",\"permalink\":\"Pink\",\"spectrum_order\":18},{\"color\":null,\"id\":18,\"name\":\"Natural/Undyed\",\"permalink\":\"Natural/Undyed\",\"spectrum_order\":19},{\"color\":null,\"id\":19,\"name\":\"Multicolored\",\"permalink\":\"Multicolored\",\"spectrum_order\":21},{\"color\":null,\"id\":20,\"name\":\"Rainbow\\t\",\"permalink\":\"Rainbow\",\"spectrum_order\":20}]}\n",
            "response output formatted:\n",
            "                  0          1          2     3     4        5     6      7  \\\n",
            "crochet_gauge                                    None     None                \n",
            "id                1          5          5     1    11       12     1      4   \n",
            "knit_gauge       18         28         28    18    22       20    18  14-15   \n",
            "max_gauge      None       None       None  None  None     None  None   None   \n",
            "min_gauge      None       None       None  None  None     None  None   None   \n",
            "name           Aran  Fingering  Fingering  Aran    DK  Worsted  Aran  Bulky   \n",
            "ply              10          4          4    10     8       10    10     12   \n",
            "wpi               8         14         14     8    11        9     8      7   \n",
            "\n",
            "                     8     9  \n",
            "crochet_gauge     None  None  \n",
            "id                  12    11  \n",
            "knit_gauge          20    22  \n",
            "max_gauge         None  None  \n",
            "min_gauge         None  None  \n",
            "name           Worsted    DK  \n",
            "ply                 10     8  \n",
            "wpi                  9    11  \n"
          ]
        }
      ],
      "source": [
        "import pandas as pd\n",
        "import http.client\n",
        "import json\n",
        "import requests\n",
        "import os\n",
        "from dotenv import load_dotenv\n",
        "\n",
        "# Load environment variables\n",
        "load_dotenv(\"info.env\")\n",
        "\n",
        "# Access credentials\n",
        "authUsername = os.getenv(\"API_USERNAME\")\n",
        "authPassword = os.getenv(\"API_PASSWORD\")\n",
        "\n",
        "#define URL for the API request\n",
        "url = 'https://api.ravelry.com/color_families.json'\n",
        "#make the request\n",
        "r = requests.get(url, auth=requests.auth.HTTPBasicAuth(authUsername, authPassword))\n",
        "#close the connection\n",
        "r.close()\n",
        "\n",
        "print(\"response code: {}\".format(r)) #tells me the response code\n",
        "print(\"response code Details: {}\".format(r.iter_lines())) #tells me details about the response code\n",
        "print(\"response output:\")\n",
        "print(r.text) #tells me the output\n",
        "print(\"response output formatted:\")\n",
        "\n",
        "query = 'bear'\n",
        "page = 10\n",
        "page_size = 10\n",
        "craft = 'crochet'\n",
        "#define URL for the API request\n",
        "url = 'https://api.ravelry.com/patterns/search.json?query={}&page={}&page_size={}&craft={}'.format(query, page, page_size, craft)\n",
        "#make the request\n",
        "r = requests.get(url, auth=requests.auth.HTTPBasicAuth(authUsername, authPassword))\n",
        "#close the connection\n",
        "r.close()\n",
        "\n",
        "yarndf = pd.DataFrame()\n",
        "\n",
        "if r.status_code == 200:\n",
        "    data = r.json()\n",
        "\n",
        "    # Extract pattern ID(s) from the search results\n",
        "    if 'patterns' in data and len(data['patterns']) > 0:\n",
        "      for i in range(len(data['patterns'])):\n",
        "          pattern_id = data['patterns'][i]['id']  # Get the first pattern ID\n",
        "\n",
        "          # Define URL to get pattern details (including yarn info)\n",
        "          pattern_url = f'https://api.ravelry.com/patterns/{pattern_id}.json'\n",
        "\n",
        "          # Make the request for pattern details\n",
        "          pattern_response = requests.get(pattern_url, auth=requests.auth.HTTPBasicAuth(authUsername, authPassword))\n",
        "          pattern_response.close()\n",
        "\n",
        "          if pattern_response.status_code == 200:\n",
        "              pattern_data = pattern_response.json()\n",
        "              yarndf[i] = pattern_data['pattern']['yarn_weight']\n",
        "              #yarndf[i]['yardage'] = pattern_data['pattern']['yardage_description']\n",
        "\n",
        "    else:\n",
        "      print(\"No patterns found\")\n",
        "else:\n",
        "  print(\"Unable to access patterns\" + r.code())\n",
        "\n",
        "print(yarndf)\n"
      ]
    }
  ],
  "metadata": {
    "language_info": {
      "name": "python"
    },
    "colab": {
      "provenance": []
    },
    "kernelspec": {
      "name": "python3",
      "display_name": "Python 3"
    }
  },
  "nbformat": 4,
  "nbformat_minor": 0
}