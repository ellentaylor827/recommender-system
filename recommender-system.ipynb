{
  "cells": [
    {
      "cell_type": "code",
      "source": [
        "!pip install python-dotenv\n",
        "!git init\n",
        "!touch .gitignore\n",
        "!echo \"info.env\" >> .gitignore\n",
        "!git check-ignore -v .env\n"
      ],
      "metadata": {
        "colab": {
          "base_uri": "https://localhost:8080/"
        },
        "collapsed": true,
        "id": "0LSBa-GcHBnG",
        "outputId": "5cf917c0-8807-4e36-e192-929ef5ea3eec"
      },
      "execution_count": 1,
      "outputs": [
        {
          "output_type": "stream",
          "name": "stdout",
          "text": [
            "Collecting python-dotenv\n",
            "  Downloading python_dotenv-1.0.1-py3-none-any.whl.metadata (23 kB)\n",
            "Downloading python_dotenv-1.0.1-py3-none-any.whl (19 kB)\n",
            "Installing collected packages: python-dotenv\n",
            "Successfully installed python-dotenv-1.0.1\n",
            "\u001b[33mhint: Using 'master' as the name for the initial branch. This default branch name\u001b[m\n",
            "\u001b[33mhint: is subject to change. To configure the initial branch name to use in all\u001b[m\n",
            "\u001b[33mhint: of your new repositories, which will suppress this warning, call:\u001b[m\n",
            "\u001b[33mhint: \u001b[m\n",
            "\u001b[33mhint: \tgit config --global init.defaultBranch <name>\u001b[m\n",
            "\u001b[33mhint: \u001b[m\n",
            "\u001b[33mhint: Names commonly chosen instead of 'master' are 'main', 'trunk' and\u001b[m\n",
            "\u001b[33mhint: 'development'. The just-created branch can be renamed via this command:\u001b[m\n",
            "\u001b[33mhint: \u001b[m\n",
            "\u001b[33mhint: \tgit branch -m <name>\u001b[m\n",
            "Initialized empty Git repository in /content/.git/\n"
          ]
        }
      ]
    },
    {
      "cell_type": "code",
      "execution_count": 13,
      "metadata": {
        "colab": {
          "base_uri": "https://localhost:8080/"
        },
        "id": "fjDadBzCFVx_",
        "outputId": "d134aa68-7ad6-4646-c95d-fe6b9e7bcada"
      },
      "outputs": [
        {
          "output_type": "stream",
          "name": "stdout",
          "text": [
            "  crochet_gauge  id knit_gauge max_gauge min_gauge         name   ply   wpi  \\\n",
            "0          None  12         20      None      None      Worsted    10     9   \n",
            "1                 1         18      None      None         Aran    10     8   \n",
            "2                 1         18      None      None         Aran    10     8   \n",
            "3          None  12         20      None      None      Worsted    10     9   \n",
            "4                 6       7-12      None      None  Super Bulky  None   5-6   \n",
            "5          None  15       None      None      None    Any gauge  None  None   \n",
            "6                 1         18      None      None         Aran    10     8   \n",
            "7          None  11         22      None      None           DK     8    11   \n",
            "8          None  11         22      None      None           DK     8    11   \n",
            "9          None  12         20      None      None      Worsted    10     9   \n",
            "\n",
            "             yardage  \n",
            "0              yards  \n",
            "1              yards  \n",
            "2              yards  \n",
            "3              yards  \n",
            "4  1400 - 1450 yards  \n",
            "5              yards  \n",
            "6              yards  \n",
            "7              yards  \n",
            "8  1800 - 1900 yards  \n",
            "9              yards  \n"
          ]
        }
      ],
      "source": [
        "import pandas as pd\n",
        "import http.client\n",
        "import json\n",
        "import requests\n",
        "import os\n",
        "from dotenv import load_dotenv\n",
        "\n",
        "# Load environment variables\n",
        "load_dotenv(\"info.env\")\n",
        "\n",
        "# Access credentials\n",
        "authUsername = os.getenv(\"API_USERNAME\")\n",
        "authPassword = os.getenv(\"API_PASSWORD\")\n",
        "\n",
        "#define URL for the API request\n",
        "url = 'https://api.ravelry.com/color_families.json'\n",
        "#make the request\n",
        "r = requests.get(url, auth=requests.auth.HTTPBasicAuth(authUsername, authPassword))\n",
        "#close the connection\n",
        "r.close()\n",
        "\n",
        "#print(\"response code: {}\".format(r)) #tells me the response code\n",
        "#print(\"response code Details: {}\".format(r.iter_lines())) #tells me details about the response code\n",
        "#print(\"response output:\")\n",
        "#print(r.text) #tells me the output\n",
        "#print(\"response output formatted:\")\n",
        "\n",
        "query = 'bear'\n",
        "page = 9\n",
        "page_size = 10\n",
        "craft = 'crochet'\n",
        "#define URL for the API request\n",
        "url = 'https://api.ravelry.com/patterns/search.json?query={}&page={}&page_size={}&craft={}'.format(query, page, page_size, craft)\n",
        "#make the request\n",
        "r = requests.get(url, auth=requests.auth.HTTPBasicAuth(authUsername, authPassword))\n",
        "#close the connection\n",
        "r.close()\n",
        "\n",
        "yarndf = pd.DataFrame(columns = ['crochet_gauge', 'id', 'knit_gauge',\n",
        "                                 'max_gauge', 'min_gauge', 'name',\n",
        "                                 'ply', 'wpi', 'yardage'])\n",
        "\n",
        "if r.status_code == 200:\n",
        "    data = r.json()\n",
        "    # Extract pattern ID(s) from the search results\n",
        "    if 'patterns' in data and len(data['patterns']) > 0:\n",
        "      for i in range(len(data['patterns'])):\n",
        "          pattern_id = data['patterns'][i]['id']\n",
        "\n",
        "          # Define URL to get pattern details\n",
        "          pattern_url = f'https://api.ravelry.com/patterns/{pattern_id}.json'\n",
        "\n",
        "          # Make the request for pattern details\n",
        "          pattern_response = requests.get(pattern_url, auth=requests.auth.HTTPBasicAuth(authUsername, authPassword))\n",
        "          pattern_response.close()\n",
        "\n",
        "          # If patterns found, collect the necessary yarn info\n",
        "          if pattern_response.status_code == 200:\n",
        "              pattern_data = pattern_response.json()\n",
        "              yarnData = pattern_data['pattern']['yarn_weight']\n",
        "              yarnData['yardage'] = pattern_data['pattern']['yardage_description']\n",
        "              yarndf = pd.concat([yarndf, pd.DataFrame([yarnData])], ignore_index=True)\n",
        "\n",
        "    else:\n",
        "      print(\"No patterns found\")\n",
        "else:\n",
        "  print(\"Unable to access patterns\" + r.code())\n",
        "\n",
        "print(yarndf)\n"
      ]
    }
  ],
  "metadata": {
    "language_info": {
      "name": "python"
    },
    "colab": {
      "provenance": []
    },
    "kernelspec": {
      "name": "python3",
      "display_name": "Python 3"
    }
  },
  "nbformat": 4,
  "nbformat_minor": 0
}