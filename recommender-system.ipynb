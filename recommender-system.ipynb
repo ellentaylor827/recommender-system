{
  "cells": [
    {
      "cell_type": "code",
      "source": [
        "!pip install python-dotenv\n",
        "!git init\n",
        "!touch .gitignore\n",
        "!echo \"info.env\" >> .gitignore\n",
        "!git check-ignore -v .env\n",
        "!pip install flask flask-cors pyngrok\n",
        "\n"
      ],
      "metadata": {
        "colab": {
          "base_uri": "https://localhost:8080/"
        },
        "collapsed": true,
        "id": "0LSBa-GcHBnG",
        "outputId": "3491ce10-f304-423a-8f33-92f391ebfe3d"
      },
      "execution_count": 14,
      "outputs": [
        {
          "output_type": "stream",
          "name": "stdout",
          "text": [
            "Requirement already satisfied: python-dotenv in /usr/local/lib/python3.11/dist-packages (1.1.0)\n",
            "Reinitialized existing Git repository in /content/.git/\n",
            "Requirement already satisfied: flask in /usr/local/lib/python3.11/dist-packages (3.1.0)\n",
            "Collecting flask-cors\n",
            "  Downloading flask_cors-5.0.1-py3-none-any.whl.metadata (961 bytes)\n",
            "Collecting pyngrok\n",
            "  Downloading pyngrok-7.2.3-py3-none-any.whl.metadata (8.7 kB)\n",
            "Requirement already satisfied: Werkzeug>=3.1 in /usr/local/lib/python3.11/dist-packages (from flask) (3.1.3)\n",
            "Requirement already satisfied: Jinja2>=3.1.2 in /usr/local/lib/python3.11/dist-packages (from flask) (3.1.6)\n",
            "Requirement already satisfied: itsdangerous>=2.2 in /usr/local/lib/python3.11/dist-packages (from flask) (2.2.0)\n",
            "Requirement already satisfied: click>=8.1.3 in /usr/local/lib/python3.11/dist-packages (from flask) (8.1.8)\n",
            "Requirement already satisfied: blinker>=1.9 in /usr/local/lib/python3.11/dist-packages (from flask) (1.9.0)\n",
            "Requirement already satisfied: PyYAML>=5.1 in /usr/local/lib/python3.11/dist-packages (from pyngrok) (6.0.2)\n",
            "Requirement already satisfied: MarkupSafe>=2.0 in /usr/local/lib/python3.11/dist-packages (from Jinja2>=3.1.2->flask) (3.0.2)\n",
            "Downloading flask_cors-5.0.1-py3-none-any.whl (11 kB)\n",
            "Downloading pyngrok-7.2.3-py3-none-any.whl (23 kB)\n",
            "Installing collected packages: pyngrok, flask-cors\n",
            "Successfully installed flask-cors-5.0.1 pyngrok-7.2.3\n"
          ]
        }
      ]
    },
    {
      "cell_type": "code",
      "source": [
        "# Setup API for react app communication\n",
        "from flask import Flask, jsonify\n",
        "from flask_cors import CORS\n",
        "from pyngrok import ngrok\n",
        "\n",
        "# Load environment variables\n",
        "load_dotenv(\"info.env\")\n",
        "\n",
        "app = Flask(__name__)\n",
        "CORS(app)\n",
        "\n",
        "@app.route('/data')\n",
        "def data():\n",
        "    return jsonify({\"message\": \"Working!\"})\n",
        "\n",
        "# Set up ngrok tunnel\n",
        "TOKEN = str(os.getenv(\"NGROK_TOKEN\"))\n",
        "ngrok.set_auth_token(TOKEN)\n",
        "public_url = ngrok.connect(5000)\n",
        "print(f\"Public URL: {public_url}\")\n",
        "\n"
      ],
      "metadata": {
        "id": "R4yUUsWNJOZF",
        "outputId": "26d91fb1-4cbb-41cc-8774-3baddc9e1a07",
        "colab": {
          "base_uri": "https://localhost:8080/"
        }
      },
      "execution_count": 22,
      "outputs": [
        {
          "output_type": "stream",
          "name": "stdout",
          "text": [
            "Public URL: NgrokTunnel: \"https://afdb-35-186-191-34.ngrok-free.app\" -> \"http://localhost:5000\"\n"
          ]
        }
      ]
    },
    {
      "cell_type": "code",
      "execution_count": 10,
      "metadata": {
        "colab": {
          "base_uri": "https://localhost:8080/"
        },
        "id": "fjDadBzCFVx_",
        "outputId": "ff42ccd7-b0c7-4dc3-b673-1bb6965de2e8"
      },
      "outputs": [
        {
          "output_type": "stream",
          "name": "stdout",
          "text": [
            "\n",
            "\n",
            "\n",
            "\n"
          ]
        }
      ],
      "source": [
        "import pandas as pd\n",
        "import http.client\n",
        "import json\n",
        "import requests\n",
        "import os\n",
        "from dotenv import load_dotenv\n",
        "import re\n",
        "\n",
        "# Access credentials\n",
        "authUsername = os.getenv(\"API_USERNAME\")\n",
        "authPassword = os.getenv(\"API_PASSWORD\")\n",
        "\n",
        "### Pre-filtering based on inventory ###\n",
        "# Search based on specific filters\n",
        "page = 8\n",
        "page_size = 50\n",
        "craft = 'crochet'\n",
        "knit_gauge = 5\n",
        "weight = 'DK'\n",
        "query = 'dragon'\n",
        "\n",
        "# Define URL for the API request\n",
        "url = 'https://api.ravelry.com/patterns/search.json?page={}&page_size={}&craft={}'.format(page, page_size, craft)\n",
        "# Make request\n",
        "r = requests.get(url, auth=requests.auth.HTTPBasicAuth(authUsername, authPassword))\n",
        "# Close connection\n",
        "r.close()\n",
        "\n",
        "def getPatterns():\n",
        "  yarndf = pd.DataFrame()\n",
        "  keydf = pd.DataFrame()\n",
        "  if r.status_code == 200:\n",
        "      data = r.json()\n",
        "      # Extract pattern ID(s) from the search results\n",
        "      if 'patterns' in data and len(data['patterns']) > 0:\n",
        "        for i in range(len(data['patterns'])):\n",
        "            pattern_id = data['patterns'][i]['id']\n",
        "\n",
        "            # Define URL to get pattern details\n",
        "            pattern_url = f'https://api.ravelry.com/patterns/{pattern_id}.json'\n",
        "\n",
        "            # Make the request for pattern details\n",
        "            pattern_response = requests.get(pattern_url, auth=requests.auth.HTTPBasicAuth(authUsername, authPassword))\n",
        "            pattern_response.close()\n",
        "\n",
        "            # If patterns found, collect the necessary yarn info\n",
        "            if pattern_response.status_code == 200:\n",
        "                pattern_data = pattern_response.json()\n",
        "                try:\n",
        "                  #print(json.dumps(json.loads(pattern_response.text), indent=4))\n",
        "                  yarnData = pattern_data['pattern']['yarn_weight']\n",
        "                  #Extract the two main categories\n",
        "                  cats = pattern_data['pattern']['pattern_categories']\n",
        "                  categories = []\n",
        "                  for cat in cats:\n",
        "                    categories.append(cat['name'])\n",
        "                    categories.append(cat['parent']['name'])\n",
        "\n",
        "                  # Extract yardage for minimum/maximums\n",
        "                  yardage = ['0', '0']\n",
        "                  extracted = re.findall(r'\\d+', pattern_data['pattern']['yardage_description'])\n",
        "\n",
        "                  if len(extracted) == 2:\n",
        "                    yardage = extracted\n",
        "                  elif len(extracted) == 1:\n",
        "                    yardage[0] = extracted[0]\n",
        "                    yardage[1] = extracted[0]\n",
        "\n",
        "                  # Get project name and add all to dataframe\n",
        "                  yarndf = pd.concat([yarndf, pd.DataFrame([{'Project name': pattern_data['pattern']['name'],\n",
        "                                                            'Yarn id': yarnData['id'],\n",
        "                                                            'Crochet gauge': yarnData['crochet_gauge'],\n",
        "                                                            'Knit gauge': yarnData['knit_gauge'],\n",
        "                                                            'Yarn name': yarnData['name'],\n",
        "                                                            'ply': yarnData['ply'], 'wpi': yarnData['wpi'],\n",
        "                                                            'Min yardage': int(yardage[0]),\n",
        "                                                            'Max yardage': int(yardage[1]),\n",
        "                                                            'Categories': categories}])], ignore_index=True)\n",
        "\n",
        "                  # Get key information from pattern details for recommender\n",
        "                  keydf = pd.concat([keydf, pd.DataFrame([{'Project name': pattern_data['pattern']['name'],\n",
        "                                                          'Project id': pattern_data['pattern']['id'],\n",
        "                                                          'Difficulty average': pattern_data['pattern']['difficulty_average'],\n",
        "                                                          'UK': pattern_data['pattern']['has_uk_terminology'],\n",
        "                                                          'US' : pattern_data['pattern']['has_us_terminology']}])], ignore_index=True)\n",
        "                except:\n",
        "                  print(\"\")\n",
        "      else:\n",
        "        print(\"No patterns found\")\n",
        "  else:\n",
        "    print(\"Unable to access patterns\")\n",
        "\n",
        "  keydf = keydf.merge(yarndf, on='Project name')\n",
        "  #print(keydf)\n",
        "  return keydf\n",
        "\n",
        "\n",
        "def fetchInventory():\n",
        "  # Open stored inventory into dataframe\n",
        "  with open(\"inventory.json\", \"r\") as file:\n",
        "    inventory = json.load(file)\n",
        "    inv = pd.DataFrame(inventory)\n",
        "    groupedInv = inv.groupby(['Yarn name','ply', 'wpi', 'Total yardage']).agg(\n",
        "        min_yardage=('Total yardage', 'min'),\n",
        "        max_yardage=('Total yardage', 'max')).reset_index()\n",
        "\n",
        "    print(groupedInv)\n",
        "    return groupedInv\n",
        "\n",
        "def filterPatterns(groupedInv, patterns):\n",
        "  # Filters patterns for yarn available in inventory\n",
        "  filtereddf = patterns[patterns['Yarn name'].isin(groupedInv['Yarn name'])]\n",
        "  finaldf = pd.DataFrame(columns = patterns.columns)\n",
        "  for idx, row in filtereddf.iterrows():\n",
        "    rowYardage = row['Max yardage']\n",
        "    maxYardage = int(max(groupedInv.loc[groupedInv['Yarn name'] == row['Yarn name'], 'max_yardage'].values))\n",
        "\n",
        "    if (rowYardage > 0) & (rowYardage <= maxYardage):\n",
        "      # Directly adds if empty for future compatibility\n",
        "      if finaldf.empty:\n",
        "        finaldf = pd.DataFrame([row])\n",
        "      else:\n",
        "        finaldf = pd.concat([finaldf, pd.DataFrame([row])], ignore_index = True)\n",
        "\n",
        "  print(finaldf)\n",
        "\n",
        "patterns = getPatterns()\n"
      ]
    },
    {
      "cell_type": "code",
      "source": [
        "# Text pre-processing before recommender\n",
        "chars = r'[^\\w\\s]' # Code for removing special characters\n",
        "patterns['Project name'] = patterns['Project name'].replace(chars, '', regex=True)\n",
        "\n",
        "# Get current yarn inventory and filter through patterns\n",
        "groupedInv = fetchInventory()\n",
        "filterPatterns(groupedInv, patterns)"
      ],
      "metadata": {
        "colab": {
          "base_uri": "https://localhost:8080/"
        },
        "id": "yguGHnCiWGV3",
        "outputId": "21d82549-d7ff-424d-c993-16600e4f041c"
      },
      "execution_count": 11,
      "outputs": [
        {
          "output_type": "stream",
          "name": "stdout",
          "text": [
            "   Yarn name  ply  wpi  Total yardage  min_yardage  max_yardage\n",
            "0         DK    8   11            500          500          500\n",
            "1         DK    8   12            200          200          200\n",
            "2  Fingering    4   14            800          800          800\n",
            "              Project name  Project id  Difficulty average    UK    US  \\\n",
            "0  Pickle Crochet Hook Bag     7420924            0.000000  None  True   \n",
            "1            Tendril Shawl     1002585            2.400000  True  True   \n",
            "2      Colourful Mini Dino     1080000            2.294118  True  None   \n",
            "\n",
            "   Yarn id Crochet gauge Knit gauge  Yarn name ply wpi  Min yardage  \\\n",
            "0        5                       28  Fingering   4  14          224   \n",
            "1        5                       28  Fingering   4  14          416   \n",
            "2       11          None         22         DK   8  11           33   \n",
            "\n",
            "   Max yardage                    Categories  \n",
            "0          230                  [Other, Bag]  \n",
            "1          547  [Shawl / Wrap, Neck / Torso]  \n",
            "2           55             [Animal, Softies]  \n"
          ]
        }
      ]
    },
    {
      "cell_type": "code",
      "source": [
        "app.run(port=5000)"
      ],
      "metadata": {
        "id": "VpapB8EaJjYm",
        "outputId": "e7c30c3c-d471-41ed-bda6-47419da6f9ac",
        "colab": {
          "base_uri": "https://localhost:8080/"
        }
      },
      "execution_count": 12,
      "outputs": [
        {
          "output_type": "stream",
          "name": "stdout",
          "text": [
            " * Serving Flask app '__main__'\n",
            " * Debug mode: off\n"
          ]
        },
        {
          "output_type": "stream",
          "name": "stderr",
          "text": [
            "INFO:werkzeug:\u001b[31m\u001b[1mWARNING: This is a development server. Do not use it in a production deployment. Use a production WSGI server instead.\u001b[0m\n",
            " * Running on http://127.0.0.1:5000\n",
            "INFO:werkzeug:\u001b[33mPress CTRL+C to quit\u001b[0m\n",
            "Exception in thread Thread-9:\n",
            "Traceback (most recent call last):\n",
            "  File \"/usr/local/lib/python3.11/dist-packages/urllib3/connection.py\", line 198, in _new_conn\n",
            "    sock = connection.create_connection(\n",
            "           ^^^^^^^^^^^^^^^^^^^^^^^^^^^^^\n",
            "  File \"/usr/local/lib/python3.11/dist-packages/urllib3/util/connection.py\", line 85, in create_connection\n",
            "    raise err\n",
            "  File \"/usr/local/lib/python3.11/dist-packages/urllib3/util/connection.py\", line 73, in create_connection\n",
            "    sock.connect(sa)\n",
            "ConnectionRefusedError: [Errno 111] Connection refused\n",
            "\n",
            "The above exception was the direct cause of the following exception:\n",
            "\n",
            "Traceback (most recent call last):\n",
            "  File \"/usr/local/lib/python3.11/dist-packages/urllib3/connectionpool.py\", line 787, in urlopen\n",
            "    response = self._make_request(\n",
            "               ^^^^^^^^^^^^^^^^^^^\n",
            "  File \"/usr/local/lib/python3.11/dist-packages/urllib3/connectionpool.py\", line 493, in _make_request\n",
            "    conn.request(\n",
            "  File \"/usr/local/lib/python3.11/dist-packages/urllib3/connection.py\", line 445, in request\n",
            "    self.endheaders()\n",
            "  File \"/usr/lib/python3.11/http/client.py\", line 1298, in endheaders\n",
            "    self._send_output(message_body, encode_chunked=encode_chunked)\n",
            "  File \"/usr/lib/python3.11/http/client.py\", line 1058, in _send_output\n",
            "    self.send(msg)\n",
            "  File \"/usr/lib/python3.11/http/client.py\", line 996, in send\n",
            "    self.connect()\n",
            "  File \"/usr/local/lib/python3.11/dist-packages/urllib3/connection.py\", line 276, in connect\n",
            "    self.sock = self._new_conn()\n",
            "                ^^^^^^^^^^^^^^^^\n",
            "  File \"/usr/local/lib/python3.11/dist-packages/urllib3/connection.py\", line 213, in _new_conn\n",
            "    raise NewConnectionError(\n",
            "urllib3.exceptions.NewConnectionError: <urllib3.connection.HTTPConnection object at 0x7ed9c7adf650>: Failed to establish a new connection: [Errno 111] Connection refused\n",
            "\n",
            "The above exception was the direct cause of the following exception:\n",
            "\n",
            "Traceback (most recent call last):\n",
            "  File \"/usr/local/lib/python3.11/dist-packages/requests/adapters.py\", line 667, in send\n",
            "    resp = conn.urlopen(\n",
            "           ^^^^^^^^^^^^^\n",
            "  File \"/usr/local/lib/python3.11/dist-packages/urllib3/connectionpool.py\", line 841, in urlopen\n",
            "    retries = retries.increment(\n",
            "              ^^^^^^^^^^^^^^^^^^\n",
            "  File \"/usr/local/lib/python3.11/dist-packages/urllib3/util/retry.py\", line 519, in increment\n",
            "    raise MaxRetryError(_pool, url, reason) from reason  # type: ignore[arg-type]\n",
            "    ^^^^^^^^^^^^^^^^^^^^^^^^^^^^^^^^^^^^^^^^^^^^^^^^^^^\n",
            "urllib3.exceptions.MaxRetryError: HTTPConnectionPool(host='localhost', port=4040): Max retries exceeded with url: /api/tunnels (Caused by NewConnectionError('<urllib3.connection.HTTPConnection object at 0x7ed9c7adf650>: Failed to establish a new connection: [Errno 111] Connection refused'))\n",
            "\n",
            "During handling of the above exception, another exception occurred:\n",
            "\n",
            "Traceback (most recent call last):\n",
            "  File \"/usr/lib/python3.11/threading.py\", line 1045, in _bootstrap_inner\n",
            "    self.run()\n",
            "  File \"/usr/lib/python3.11/threading.py\", line 1401, in run\n",
            "    self.function(*self.args, **self.kwargs)\n",
            "  File \"/usr/local/lib/python3.11/dist-packages/flask_ngrok.py\", line 70, in start_ngrok\n",
            "    ngrok_address = _run_ngrok()\n",
            "                    ^^^^^^^^^^^^\n",
            "  File \"/usr/local/lib/python3.11/dist-packages/flask_ngrok.py\", line 35, in _run_ngrok\n",
            "    tunnel_url = requests.get(localhost_url).text  # Get the tunnel information\n",
            "                 ^^^^^^^^^^^^^^^^^^^^^^^^^^^\n",
            "  File \"/usr/local/lib/python3.11/dist-packages/requests/api.py\", line 73, in get\n",
            "    return request(\"get\", url, params=params, **kwargs)\n",
            "           ^^^^^^^^^^^^^^^^^^^^^^^^^^^^^^^^^^^^^^^^^^^^\n",
            "  File \"/usr/local/lib/python3.11/dist-packages/requests/api.py\", line 59, in request\n",
            "    return session.request(method=method, url=url, **kwargs)\n",
            "           ^^^^^^^^^^^^^^^^^^^^^^^^^^^^^^^^^^^^^^^^^^^^^^^^^\n",
            "  File \"/usr/local/lib/python3.11/dist-packages/requests/sessions.py\", line 589, in request\n",
            "    resp = self.send(prep, **send_kwargs)\n",
            "           ^^^^^^^^^^^^^^^^^^^^^^^^^^^^^^\n",
            "  File \"/usr/local/lib/python3.11/dist-packages/requests/sessions.py\", line 703, in send\n",
            "    r = adapter.send(request, **kwargs)\n",
            "        ^^^^^^^^^^^^^^^^^^^^^^^^^^^^^^^\n",
            "  File \"/usr/local/lib/python3.11/dist-packages/requests/adapters.py\", line 700, in send\n",
            "    raise ConnectionError(e, request=request)\n",
            "requests.exceptions.ConnectionError: HTTPConnectionPool(host='localhost', port=4040): Max retries exceeded with url: /api/tunnels (Caused by NewConnectionError('<urllib3.connection.HTTPConnection object at 0x7ed9c7adf650>: Failed to establish a new connection: [Errno 111] Connection refused'))\n"
          ]
        }
      ]
    },
    {
      "cell_type": "code",
      "source": [
        "### Basic recommender ###\n",
        "# Take the last 5 patterns saved by the user and use the average calculated metrics to then recommend\n",
        "# In release, should use the saved and completed patterns\n",
        "from sklearn.pipeline import Pipeline\n",
        "from sklearn.feature_extraction.text import CountVectorizer, TfidfTransformer\n",
        "from sklearn.metrics.pairwise import cosine_similarity\n",
        "\n",
        "# Gets patterns users have saved/started making\n",
        "def readSaved():\n",
        "  with open(\"saved.json\", \"r\") as file:\n",
        "    savedPatterns = json.load(file)\n",
        "    saved = pd.DataFrame(savedPatterns)\n",
        "    return saved\n",
        "\n",
        "# Vectorizes features\n",
        "def vectorize(names, bow, vectorizer):\n",
        "  tfidfTransformer = TfidfTransformer()\n",
        "  tfidfMatrix = tfidfTransformer.fit_transform(bow)\n",
        "  return pd.DataFrame(tfidfMatrix.toarray())\n",
        "\n",
        "# Takes features of saved patterns and finds the similairty against other found patterns\n",
        "def transformPatterns(saved, patterns):\n",
        "  savedNames = saved['Project name'].tolist()\n",
        "  patternNames = patterns['Project name'].tolist()\n",
        "  #Features to be used for comparing patterns\n",
        "  features = ['Project name', 'Difficulty average', 'US', 'UK', \"Categories\"]\n",
        "\n",
        "  savedCombined = saved.copy()\n",
        "  patternsCombined = patterns.copy()\n",
        "\n",
        "  # Features used for comparing patterns\n",
        "  def combineFeatures(data):\n",
        "    return data['Project name'] + ' ' + str(data['Difficulty average']) + ' ' + str(data['US']) + ' ' + str(data['UK']) + ' ' + str(data['Categories'][0]) + ' ' + str(data[\"Categories\"][1])\n",
        "\n",
        "  # Fills in any missing data\n",
        "  for feature in features:\n",
        "    savedCombined[feature] = savedCombined[feature].fillna('')\n",
        "    patternsCombined[feature] = patternsCombined[feature].fillna('')\n",
        "\n",
        "  savedCombined['combinedFeatures'] = savedCombined.apply(combineFeatures, axis=1)\n",
        "  patternsCombined['combinedFeatures'] = patternsCombined.apply(combineFeatures, axis=1)\n",
        "  # Combines all words so features from saved and patterns are used in the vectorising process\n",
        "  allCombined = pd.concat([savedCombined[\"combinedFeatures\"], patternsCombined[\"combinedFeatures\"]])\n",
        "\n",
        "  vectorizer = CountVectorizer()\n",
        "  bagOfWordsMatrix = vectorizer.fit_transform(allCombined)\n",
        "\n",
        "  # Splits the combined vectorizing to compare\n",
        "  savedMatrix = vectorize(savedNames, bagOfWordsMatrix[:len(saved)], vectorizer)\n",
        "  patternMatrix = vectorize(patternNames, bagOfWordsMatrix[len(saved):], vectorizer)\n",
        "\n",
        "  # Finds similaritys\n",
        "  similar = cosine_similarity(patternMatrix, savedMatrix)\n",
        "  similarDf = pd.DataFrame(similar, index = patternNames, columns = savedNames)\n",
        "  # Totals similarity across all saved patterns to find the best overall recommended ones\n",
        "  totals = pd.DataFrame(similarDf.sum(axis=1))\n",
        "  totals.sort_values(by=[0], ascending=False, inplace=True)\n",
        "  # Displays top 10 recommended patterns\n",
        "  print(totals.head(10))\n",
        "\n",
        "saved = readSaved()\n",
        "transformPatterns(saved, patterns)\n"
      ],
      "metadata": {
        "id": "i4fUQJH1WX5R",
        "colab": {
          "base_uri": "https://localhost:8080/",
          "height": 547
        },
        "outputId": "55280b7d-92aa-4a0f-a51d-18c99dd27699"
      },
      "execution_count": 4,
      "outputs": [
        {
          "output_type": "error",
          "ename": "KeyError",
          "evalue": "'Categories'",
          "traceback": [
            "\u001b[0;31m---------------------------------------------------------------------------\u001b[0m",
            "\u001b[0;31mKeyError\u001b[0m                                  Traceback (most recent call last)",
            "\u001b[0;32m/usr/local/lib/python3.11/dist-packages/pandas/core/indexes/base.py\u001b[0m in \u001b[0;36mget_loc\u001b[0;34m(self, key)\u001b[0m\n\u001b[1;32m   3804\u001b[0m         \u001b[0;32mtry\u001b[0m\u001b[0;34m:\u001b[0m\u001b[0;34m\u001b[0m\u001b[0;34m\u001b[0m\u001b[0m\n\u001b[0;32m-> 3805\u001b[0;31m             \u001b[0;32mreturn\u001b[0m \u001b[0mself\u001b[0m\u001b[0;34m.\u001b[0m\u001b[0m_engine\u001b[0m\u001b[0;34m.\u001b[0m\u001b[0mget_loc\u001b[0m\u001b[0;34m(\u001b[0m\u001b[0mcasted_key\u001b[0m\u001b[0;34m)\u001b[0m\u001b[0;34m\u001b[0m\u001b[0;34m\u001b[0m\u001b[0m\n\u001b[0m\u001b[1;32m   3806\u001b[0m         \u001b[0;32mexcept\u001b[0m \u001b[0mKeyError\u001b[0m \u001b[0;32mas\u001b[0m \u001b[0merr\u001b[0m\u001b[0;34m:\u001b[0m\u001b[0;34m\u001b[0m\u001b[0;34m\u001b[0m\u001b[0m\n",
            "\u001b[0;32mindex.pyx\u001b[0m in \u001b[0;36mpandas._libs.index.IndexEngine.get_loc\u001b[0;34m()\u001b[0m\n",
            "\u001b[0;32mindex.pyx\u001b[0m in \u001b[0;36mpandas._libs.index.IndexEngine.get_loc\u001b[0;34m()\u001b[0m\n",
            "\u001b[0;32mpandas/_libs/hashtable_class_helper.pxi\u001b[0m in \u001b[0;36mpandas._libs.hashtable.PyObjectHashTable.get_item\u001b[0;34m()\u001b[0m\n",
            "\u001b[0;32mpandas/_libs/hashtable_class_helper.pxi\u001b[0m in \u001b[0;36mpandas._libs.hashtable.PyObjectHashTable.get_item\u001b[0;34m()\u001b[0m\n",
            "\u001b[0;31mKeyError\u001b[0m: 'Categories'",
            "\nThe above exception was the direct cause of the following exception:\n",
            "\u001b[0;31mKeyError\u001b[0m                                  Traceback (most recent call last)",
            "\u001b[0;32m<ipython-input-4-0c7dd73d44ee>\u001b[0m in \u001b[0;36m<cell line: 0>\u001b[0;34m()\u001b[0m\n\u001b[1;32m     60\u001b[0m \u001b[0;34m\u001b[0m\u001b[0m\n\u001b[1;32m     61\u001b[0m \u001b[0msaved\u001b[0m \u001b[0;34m=\u001b[0m \u001b[0mreadSaved\u001b[0m\u001b[0;34m(\u001b[0m\u001b[0;34m)\u001b[0m\u001b[0;34m\u001b[0m\u001b[0;34m\u001b[0m\u001b[0m\n\u001b[0;32m---> 62\u001b[0;31m \u001b[0mtransformPatterns\u001b[0m\u001b[0;34m(\u001b[0m\u001b[0msaved\u001b[0m\u001b[0;34m,\u001b[0m \u001b[0mpatterns\u001b[0m\u001b[0;34m)\u001b[0m\u001b[0;34m\u001b[0m\u001b[0;34m\u001b[0m\u001b[0m\n\u001b[0m",
            "\u001b[0;32m<ipython-input-4-0c7dd73d44ee>\u001b[0m in \u001b[0;36mtransformPatterns\u001b[0;34m(saved, patterns)\u001b[0m\n\u001b[1;32m     35\u001b[0m   \u001b[0;31m# Fills in any missing data\u001b[0m\u001b[0;34m\u001b[0m\u001b[0;34m\u001b[0m\u001b[0m\n\u001b[1;32m     36\u001b[0m   \u001b[0;32mfor\u001b[0m \u001b[0mfeature\u001b[0m \u001b[0;32min\u001b[0m \u001b[0mfeatures\u001b[0m\u001b[0;34m:\u001b[0m\u001b[0;34m\u001b[0m\u001b[0;34m\u001b[0m\u001b[0m\n\u001b[0;32m---> 37\u001b[0;31m     \u001b[0msavedCombined\u001b[0m\u001b[0;34m[\u001b[0m\u001b[0mfeature\u001b[0m\u001b[0;34m]\u001b[0m \u001b[0;34m=\u001b[0m \u001b[0msavedCombined\u001b[0m\u001b[0;34m[\u001b[0m\u001b[0mfeature\u001b[0m\u001b[0;34m]\u001b[0m\u001b[0;34m.\u001b[0m\u001b[0mfillna\u001b[0m\u001b[0;34m(\u001b[0m\u001b[0;34m''\u001b[0m\u001b[0;34m)\u001b[0m\u001b[0;34m\u001b[0m\u001b[0;34m\u001b[0m\u001b[0m\n\u001b[0m\u001b[1;32m     38\u001b[0m     \u001b[0mpatternsCombined\u001b[0m\u001b[0;34m[\u001b[0m\u001b[0mfeature\u001b[0m\u001b[0;34m]\u001b[0m \u001b[0;34m=\u001b[0m \u001b[0mpatternsCombined\u001b[0m\u001b[0;34m[\u001b[0m\u001b[0mfeature\u001b[0m\u001b[0;34m]\u001b[0m\u001b[0;34m.\u001b[0m\u001b[0mfillna\u001b[0m\u001b[0;34m(\u001b[0m\u001b[0;34m''\u001b[0m\u001b[0;34m)\u001b[0m\u001b[0;34m\u001b[0m\u001b[0;34m\u001b[0m\u001b[0m\n\u001b[1;32m     39\u001b[0m \u001b[0;34m\u001b[0m\u001b[0m\n",
            "\u001b[0;32m/usr/local/lib/python3.11/dist-packages/pandas/core/frame.py\u001b[0m in \u001b[0;36m__getitem__\u001b[0;34m(self, key)\u001b[0m\n\u001b[1;32m   4100\u001b[0m             \u001b[0;32mif\u001b[0m \u001b[0mself\u001b[0m\u001b[0;34m.\u001b[0m\u001b[0mcolumns\u001b[0m\u001b[0;34m.\u001b[0m\u001b[0mnlevels\u001b[0m \u001b[0;34m>\u001b[0m \u001b[0;36m1\u001b[0m\u001b[0;34m:\u001b[0m\u001b[0;34m\u001b[0m\u001b[0;34m\u001b[0m\u001b[0m\n\u001b[1;32m   4101\u001b[0m                 \u001b[0;32mreturn\u001b[0m \u001b[0mself\u001b[0m\u001b[0;34m.\u001b[0m\u001b[0m_getitem_multilevel\u001b[0m\u001b[0;34m(\u001b[0m\u001b[0mkey\u001b[0m\u001b[0;34m)\u001b[0m\u001b[0;34m\u001b[0m\u001b[0;34m\u001b[0m\u001b[0m\n\u001b[0;32m-> 4102\u001b[0;31m             \u001b[0mindexer\u001b[0m \u001b[0;34m=\u001b[0m \u001b[0mself\u001b[0m\u001b[0;34m.\u001b[0m\u001b[0mcolumns\u001b[0m\u001b[0;34m.\u001b[0m\u001b[0mget_loc\u001b[0m\u001b[0;34m(\u001b[0m\u001b[0mkey\u001b[0m\u001b[0;34m)\u001b[0m\u001b[0;34m\u001b[0m\u001b[0;34m\u001b[0m\u001b[0m\n\u001b[0m\u001b[1;32m   4103\u001b[0m             \u001b[0;32mif\u001b[0m \u001b[0mis_integer\u001b[0m\u001b[0;34m(\u001b[0m\u001b[0mindexer\u001b[0m\u001b[0;34m)\u001b[0m\u001b[0;34m:\u001b[0m\u001b[0;34m\u001b[0m\u001b[0;34m\u001b[0m\u001b[0m\n\u001b[1;32m   4104\u001b[0m                 \u001b[0mindexer\u001b[0m \u001b[0;34m=\u001b[0m \u001b[0;34m[\u001b[0m\u001b[0mindexer\u001b[0m\u001b[0;34m]\u001b[0m\u001b[0;34m\u001b[0m\u001b[0;34m\u001b[0m\u001b[0m\n",
            "\u001b[0;32m/usr/local/lib/python3.11/dist-packages/pandas/core/indexes/base.py\u001b[0m in \u001b[0;36mget_loc\u001b[0;34m(self, key)\u001b[0m\n\u001b[1;32m   3810\u001b[0m             ):\n\u001b[1;32m   3811\u001b[0m                 \u001b[0;32mraise\u001b[0m \u001b[0mInvalidIndexError\u001b[0m\u001b[0;34m(\u001b[0m\u001b[0mkey\u001b[0m\u001b[0;34m)\u001b[0m\u001b[0;34m\u001b[0m\u001b[0;34m\u001b[0m\u001b[0m\n\u001b[0;32m-> 3812\u001b[0;31m             \u001b[0;32mraise\u001b[0m \u001b[0mKeyError\u001b[0m\u001b[0;34m(\u001b[0m\u001b[0mkey\u001b[0m\u001b[0;34m)\u001b[0m \u001b[0;32mfrom\u001b[0m \u001b[0merr\u001b[0m\u001b[0;34m\u001b[0m\u001b[0;34m\u001b[0m\u001b[0m\n\u001b[0m\u001b[1;32m   3813\u001b[0m         \u001b[0;32mexcept\u001b[0m \u001b[0mTypeError\u001b[0m\u001b[0;34m:\u001b[0m\u001b[0;34m\u001b[0m\u001b[0;34m\u001b[0m\u001b[0m\n\u001b[1;32m   3814\u001b[0m             \u001b[0;31m# If we have a listlike key, _check_indexing_error will raise\u001b[0m\u001b[0;34m\u001b[0m\u001b[0;34m\u001b[0m\u001b[0m\n",
            "\u001b[0;31mKeyError\u001b[0m: 'Categories'"
          ]
        }
      ]
    },
    {
      "cell_type": "markdown",
      "source": [
        "Notes for retrieving names for the recommender\n",
        "*   Remove any symbols from pattern names cause having \" causes issues with the json\n",
        "*   Any missing data should be 0 or none\n",
        "* Probably include links to the projects when saving to the json\n",
        "\n",
        "\n"
      ],
      "metadata": {
        "id": "0hgPoHkKsrUK"
      }
    }
  ],
  "metadata": {
    "language_info": {
      "name": "python"
    },
    "colab": {
      "provenance": []
    },
    "kernelspec": {
      "name": "python3",
      "display_name": "Python 3"
    }
  },
  "nbformat": 4,
  "nbformat_minor": 0
}