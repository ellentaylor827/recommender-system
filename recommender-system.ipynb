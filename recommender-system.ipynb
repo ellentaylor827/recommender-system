{
  "cells": [
    {
      "cell_type": "code",
      "source": [
        "!pip install python-dotenv\n",
        "!git init\n",
        "!touch .gitignore\n",
        "!echo \"info.env\" >> .gitignore\n",
        "!git check-ignore -v .env\n"
      ],
      "metadata": {
        "colab": {
          "base_uri": "https://localhost:8080/"
        },
        "collapsed": true,
        "id": "0LSBa-GcHBnG",
        "outputId": "d52c4093-17e6-4e9b-c238-bb6b717d65ae"
      },
      "execution_count": 1,
      "outputs": [
        {
          "output_type": "stream",
          "name": "stdout",
          "text": [
            "Collecting python-dotenv\n",
            "  Downloading python_dotenv-1.0.1-py3-none-any.whl.metadata (23 kB)\n",
            "Downloading python_dotenv-1.0.1-py3-none-any.whl (19 kB)\n",
            "Installing collected packages: python-dotenv\n",
            "Successfully installed python-dotenv-1.0.1\n",
            "\u001b[33mhint: Using 'master' as the name for the initial branch. This default branch name\u001b[m\n",
            "\u001b[33mhint: is subject to change. To configure the initial branch name to use in all\u001b[m\n",
            "\u001b[33mhint: of your new repositories, which will suppress this warning, call:\u001b[m\n",
            "\u001b[33mhint: \u001b[m\n",
            "\u001b[33mhint: \tgit config --global init.defaultBranch <name>\u001b[m\n",
            "\u001b[33mhint: \u001b[m\n",
            "\u001b[33mhint: Names commonly chosen instead of 'master' are 'main', 'trunk' and\u001b[m\n",
            "\u001b[33mhint: 'development'. The just-created branch can be renamed via this command:\u001b[m\n",
            "\u001b[33mhint: \u001b[m\n",
            "\u001b[33mhint: \tgit branch -m <name>\u001b[m\n",
            "Initialized empty Git repository in /content/.git/\n"
          ]
        }
      ]
    },
    {
      "cell_type": "code",
      "execution_count": 11,
      "metadata": {
        "colab": {
          "base_uri": "https://localhost:8080/"
        },
        "id": "fjDadBzCFVx_",
        "outputId": "ab696280-a24e-46fb-8d36-428786cc8fb2"
      },
      "outputs": [
        {
          "output_type": "stream",
          "name": "stdout",
          "text": [
            "  crochet_gauge  id knit_gauge max_gauge min_gauge name ply wpi  \\\n",
            "0          None  11         22      None      None   DK   8  11   \n",
            "1          None  11         22      None      None   DK   8  11   \n",
            "2          None  11         22      None      None   DK   8  11   \n",
            "3          None  11         22      None      None   DK   8  11   \n",
            "4          None  11         22      None      None   DK   8  11   \n",
            "\n",
            "           yardage                       Project name  \n",
            "0            yards               Teddy bear amigurumi  \n",
            "1   87 - 109 yards             Smootch the Teddy Bear  \n",
            "2            yards                Mr Beans Teddy Bear  \n",
            "3  290 - 310 yards  Sleepy Bear With Monster Slippers  \n",
            "4  110 - 130 yards                  Koala Pocket Bear  \n"
          ]
        }
      ],
      "source": [
        "import pandas as pd\n",
        "import http.client\n",
        "import json\n",
        "import requests\n",
        "import os\n",
        "from dotenv import load_dotenv\n",
        "\n",
        "# Load environment variables\n",
        "load_dotenv(\"info.env\")\n",
        "\n",
        "# Access credentials\n",
        "authUsername = os.getenv(\"API_USERNAME\")\n",
        "authPassword = os.getenv(\"API_PASSWORD\")\n",
        "\n",
        "#define URL for the API request\n",
        "url = 'https://api.ravelry.com/color_families.json'\n",
        "#make the request\n",
        "r = requests.get(url, auth=requests.auth.HTTPBasicAuth(authUsername, authPassword))\n",
        "#close the connection\n",
        "r.close()\n",
        "\n",
        "#print(\"response code: {}\".format(r)) #tells me the response code\n",
        "#print(\"response code Details: {}\".format(r.iter_lines())) #tells me details about the response code\n",
        "#print(\"response output:\")\n",
        "#print(r.text) #tells me the output\n",
        "#print(\"response output formatted:\")\n",
        "\n",
        "###Pre-filtering based on inventory###\n",
        "# Search based on specific filters\n",
        "query = 'bear'\n",
        "page = 9\n",
        "page_size = 5\n",
        "craft = 'crochet'\n",
        "knit_gauge = 5\n",
        "weight = 'DK'\n",
        "\n",
        "# Define URL for the API request\n",
        "url = 'https://api.ravelry.com/patterns/search.json?query={}&page={}&page_size={}&craft={}&weight={}'.format(query, page, page_size, craft, weight)\n",
        "# Make request\n",
        "r = requests.get(url, auth=requests.auth.HTTPBasicAuth(authUsername, authPassword))\n",
        "# Close connection\n",
        "r.close()\n",
        "\n",
        "yarndf = pd.DataFrame(columns = ['crochet_gauge', 'id', 'knit_gauge',\n",
        "                                 'max_gauge', 'min_gauge', 'name',\n",
        "                                 'ply', 'wpi', 'yardage', 'Project name'])\n",
        "\n",
        "if r.status_code == 200:\n",
        "    data = r.json()\n",
        "    # Extract pattern ID(s) from the search results\n",
        "    if 'patterns' in data and len(data['patterns']) > 0:\n",
        "      for i in range(len(data['patterns'])):\n",
        "          pattern_id = data['patterns'][i]['id']\n",
        "\n",
        "          # Define URL to get pattern details\n",
        "          pattern_url = f'https://api.ravelry.com/patterns/{pattern_id}.json'\n",
        "\n",
        "          # Make the request for pattern details\n",
        "          pattern_response = requests.get(pattern_url, auth=requests.auth.HTTPBasicAuth(authUsername, authPassword))\n",
        "          pattern_response.close()\n",
        "\n",
        "          # If patterns found, collect the necessary yarn info\n",
        "          if pattern_response.status_code == 200:\n",
        "              pattern_data = pattern_response.json()\n",
        "              try:\n",
        "                #print(json.dumps(json.loads(pattern_response.text), indent=4))\n",
        "                yarnData = pattern_data['pattern']['yarn_weight']\n",
        "                yarnData['yardage'] = pattern_data['pattern']['yardage_description']\n",
        "                yarnData['Project name'] = pattern_data['pattern']['name']\n",
        "                yarndf = pd.concat([yarndf, pd.DataFrame([yarnData])], ignore_index=True)\n",
        "              except:\n",
        "                print(\"No yarn weight recorded\")\n",
        "\n",
        "    else:\n",
        "      print(\"No patterns found\")\n",
        "else:\n",
        "  print(\"Unable to access patterns\" + r.code())\n",
        "\n",
        "print(yarndf)\n"
      ]
    }
  ],
  "metadata": {
    "language_info": {
      "name": "python"
    },
    "colab": {
      "provenance": []
    },
    "kernelspec": {
      "name": "python3",
      "display_name": "Python 3"
    }
  },
  "nbformat": 4,
  "nbformat_minor": 0
}