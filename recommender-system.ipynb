{
  "cells": [
    {
      "cell_type": "code",
      "source": [
        "!pip install python-dotenv\n",
        "!git init\n",
        "!touch .gitignore\n",
        "!echo \"info.env\" >> .gitignore\n",
        "!git check-ignore -v .env\n"
      ],
      "metadata": {
        "colab": {
          "base_uri": "https://localhost:8080/"
        },
        "collapsed": true,
        "id": "0LSBa-GcHBnG",
        "outputId": "76728684-4301-4bdb-b255-572a1b621e5e"
      },
      "execution_count": 4,
      "outputs": [
        {
          "output_type": "stream",
          "name": "stdout",
          "text": [
            "Requirement already satisfied: python-dotenv in /usr/local/lib/python3.11/dist-packages (1.0.1)\n",
            "\u001b[33mhint: Using 'master' as the name for the initial branch. This default branch name\u001b[m\n",
            "\u001b[33mhint: is subject to change. To configure the initial branch name to use in all\u001b[m\n",
            "\u001b[33mhint: of your new repositories, which will suppress this warning, call:\u001b[m\n",
            "\u001b[33mhint: \u001b[m\n",
            "\u001b[33mhint: \tgit config --global init.defaultBranch <name>\u001b[m\n",
            "\u001b[33mhint: \u001b[m\n",
            "\u001b[33mhint: Names commonly chosen instead of 'master' are 'main', 'trunk' and\u001b[m\n",
            "\u001b[33mhint: 'development'. The just-created branch can be renamed via this command:\u001b[m\n",
            "\u001b[33mhint: \u001b[m\n",
            "\u001b[33mhint: \tgit branch -m <name>\u001b[m\n",
            "Initialized empty Git repository in /content/.git/\n"
          ]
        }
      ]
    },
    {
      "cell_type": "code",
      "execution_count": 5,
      "metadata": {
        "colab": {
          "base_uri": "https://localhost:8080/"
        },
        "id": "fjDadBzCFVx_",
        "outputId": "56e717ae-4a3c-47e9-dee4-896a45334bb0"
      },
      "outputs": [
        {
          "output_type": "stream",
          "name": "stdout",
          "text": [
            "response code: <Response [200]>\n",
            "response code Details: <generator object Response.iter_lines at 0x78753355fd40>\n",
            "response output:\n",
            "{\"color_families\": [{\"color\":null,\"id\":1,\"name\":\"Yellow\",\"permalink\":\"Yellow\",\"spectrum_order\":1},{\"color\":null,\"id\":2,\"name\":\"Yellow-orange\",\"permalink\":\"Yellow-orange\",\"spectrum_order\":2},{\"color\":null,\"id\":3,\"name\":\"Orange\",\"permalink\":\"Orange\",\"spectrum_order\":3},{\"color\":null,\"id\":4,\"name\":\"Red-orange\",\"permalink\":\"Red-orange\",\"spectrum_order\":4},{\"color\":null,\"id\":5,\"name\":\"Red\",\"permalink\":\"Red\",\"spectrum_order\":5},{\"color\":null,\"id\":6,\"name\":\"Red-purple\",\"permalink\":\"Red-purple\",\"spectrum_order\":0},{\"color\":null,\"id\":7,\"name\":\"Purple\",\"permalink\":\"Purple\",\"spectrum_order\":8},{\"color\":null,\"id\":8,\"name\":\"Blue-purple\",\"permalink\":\"Blue-purple\",\"spectrum_order\":9},{\"color\":null,\"id\":9,\"name\":\"Blue\",\"permalink\":\"Blue\",\"spectrum_order\":10},{\"color\":null,\"id\":10,\"name\":\"Blue-green\",\"permalink\":\"Blue-green\",\"spectrum_order\":11},{\"color\":null,\"id\":11,\"name\":\"Green\",\"permalink\":\"Green\",\"spectrum_order\":12},{\"color\":null,\"id\":12,\"name\":\"Yellow-green\",\"permalink\":\"Yellow-green\",\"spectrum_order\":13},{\"color\":null,\"id\":13,\"name\":\"Black\",\"permalink\":\"Black\",\"spectrum_order\":14},{\"color\":null,\"id\":14,\"name\":\"White\",\"permalink\":\"White\",\"spectrum_order\":15},{\"color\":null,\"id\":15,\"name\":\"Gray\",\"permalink\":\"Gray\",\"spectrum_order\":16},{\"color\":null,\"id\":16,\"name\":\"Brown\",\"permalink\":\"Brown\",\"spectrum_order\":17},{\"color\":null,\"id\":17,\"name\":\"Pink\",\"permalink\":\"Pink\",\"spectrum_order\":18},{\"color\":null,\"id\":18,\"name\":\"Natural/Undyed\",\"permalink\":\"Natural/Undyed\",\"spectrum_order\":19},{\"color\":null,\"id\":19,\"name\":\"Multicolored\",\"permalink\":\"Multicolored\",\"spectrum_order\":21},{\"color\":null,\"id\":20,\"name\":\"Rainbow\\t\",\"permalink\":\"Rainbow\",\"spectrum_order\":20}]}\n",
            "response output formatted:\n"
          ]
        }
      ],
      "source": [
        "import pandas as pd\n",
        "import http.client\n",
        "import json\n",
        "import requests\n",
        "import os\n",
        "from dotenv import load_dotenv\n",
        "\n",
        "# Load environment variables\n",
        "load_dotenv(\"info.env\")\n",
        "\n",
        "# Access credentials\n",
        "authUsername = os.getenv(\"API_USERNAME\")\n",
        "authPassword = os.getenv(\"API_PASSWORD\")\n",
        "\n",
        "#define URL for the API request\n",
        "url = 'https://api.ravelry.com/color_families.json'\n",
        "#make the request\n",
        "r1 = requests.get(url, auth=requests.auth.HTTPBasicAuth(authUsername, authPassword))\n",
        "#close the connection\n",
        "r1.close()\n",
        "\n",
        "print(\"response code: {}\".format(r1)) #tells me the response code\n",
        "print(\"response code Details: {}\".format(r1.iter_lines())) #tells me details about the response code\n",
        "print(\"response output:\")\n",
        "print(r1.text) #tells me the output\n",
        "print(\"response output formatted:\")"
      ]
    }
  ],
  "metadata": {
    "language_info": {
      "name": "python"
    },
    "colab": {
      "provenance": []
    },
    "kernelspec": {
      "name": "python3",
      "display_name": "Python 3"
    }
  },
  "nbformat": 4,
  "nbformat_minor": 0
}