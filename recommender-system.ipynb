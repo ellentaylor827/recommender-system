{
  "cells": [
    {
      "cell_type": "code",
      "source": [
        "!pip install python-dotenv\n",
        "!git init\n",
        "!touch .gitignore\n",
        "!echo \"info.env\" >> .gitignore\n",
        "!git check-ignore -v .env\n"
      ],
      "metadata": {
        "colab": {
          "base_uri": "https://localhost:8080/"
        },
        "collapsed": true,
        "id": "0LSBa-GcHBnG",
        "outputId": "96c15bdf-d9e1-49a0-ae2e-190bd1b64526"
      },
      "execution_count": 1,
      "outputs": [
        {
          "output_type": "stream",
          "name": "stdout",
          "text": [
            "Collecting python-dotenv\n",
            "  Downloading python_dotenv-1.0.1-py3-none-any.whl.metadata (23 kB)\n",
            "Downloading python_dotenv-1.0.1-py3-none-any.whl (19 kB)\n",
            "Installing collected packages: python-dotenv\n",
            "Successfully installed python-dotenv-1.0.1\n",
            "\u001b[33mhint: Using 'master' as the name for the initial branch. This default branch name\u001b[m\n",
            "\u001b[33mhint: is subject to change. To configure the initial branch name to use in all\u001b[m\n",
            "\u001b[33mhint: of your new repositories, which will suppress this warning, call:\u001b[m\n",
            "\u001b[33mhint: \u001b[m\n",
            "\u001b[33mhint: \tgit config --global init.defaultBranch <name>\u001b[m\n",
            "\u001b[33mhint: \u001b[m\n",
            "\u001b[33mhint: Names commonly chosen instead of 'master' are 'main', 'trunk' and\u001b[m\n",
            "\u001b[33mhint: 'development'. The just-created branch can be renamed via this command:\u001b[m\n",
            "\u001b[33mhint: \u001b[m\n",
            "\u001b[33mhint: \tgit branch -m <name>\u001b[m\n",
            "Initialized empty Git repository in /content/.git/\n"
          ]
        }
      ]
    },
    {
      "cell_type": "code",
      "execution_count": 38,
      "metadata": {
        "colab": {
          "base_uri": "https://localhost:8080/"
        },
        "id": "fjDadBzCFVx_",
        "outputId": "d05c8c56-c5cf-47ae-a61a-2e9ee9b6baf6"
      },
      "outputs": [
        {
          "output_type": "stream",
          "name": "stdout",
          "text": [
            "Yarn name  ply  wpi  Total yardage\n",
            "DK         8    11   500              2\n",
            "                12   200              1\n",
            "Fingering  4    14   800              1\n",
            "dtype: int64\n"
          ]
        }
      ],
      "source": [
        "import pandas as pd\n",
        "import http.client\n",
        "import json\n",
        "import requests\n",
        "import os\n",
        "from dotenv import load_dotenv\n",
        "import re\n",
        "\n",
        "# Load environment variables\n",
        "load_dotenv(\"info.env\")\n",
        "\n",
        "# Access credentials\n",
        "authUsername = os.getenv(\"API_USERNAME\")\n",
        "authPassword = os.getenv(\"API_PASSWORD\")\n",
        "\n",
        "###Pre-filtering based on inventory###\n",
        "# Search based on specific filters\n",
        "page = 9\n",
        "page_size = 30\n",
        "craft = 'crochet'\n",
        "knit_gauge = 5\n",
        "weight = 'DK'\n",
        "query = 'bear'\n",
        "\n",
        "# Define URL for the API request\n",
        "url = 'https://api.ravelry.com/patterns/search.json?page={}&page_size={}&craft={}'.format(page, page_size, craft)\n",
        "# Make request\n",
        "r = requests.get(url, auth=requests.auth.HTTPBasicAuth(authUsername, authPassword))\n",
        "# Close connection\n",
        "r.close()\n",
        "\n",
        "yarndf = pd.DataFrame()\n",
        "keydf = pd.DataFrame()\n",
        "\n",
        "def getPatterns():\n",
        "  if r.status_code == 200:\n",
        "      data = r.json()\n",
        "      # Extract pattern ID(s) from the search results\n",
        "      if 'patterns' in data and len(data['patterns']) > 0:\n",
        "        for i in range(len(data['patterns'])):\n",
        "            pattern_id = data['patterns'][i]['id']\n",
        "\n",
        "            # Define URL to get pattern details\n",
        "            pattern_url = f'https://api.ravelry.com/patterns/{pattern_id}.json'\n",
        "\n",
        "            # Make the request for pattern details\n",
        "            pattern_response = requests.get(pattern_url, auth=requests.auth.HTTPBasicAuth(authUsername, authPassword))\n",
        "            pattern_response.close()\n",
        "\n",
        "            # If patterns found, collect the necessary yarn info\n",
        "            if pattern_response.status_code == 200:\n",
        "                pattern_data = pattern_response.json()\n",
        "                try:\n",
        "                  #print(json.dumps(json.loads(pattern_response.text), indent=4))\n",
        "                  yarnData = pattern_data['pattern']['yarn_weight']\n",
        "\n",
        "                  # Extract yardage for minimum/maximums\n",
        "                  yardage = ['0', '0']\n",
        "                  extracted = re.findall(r'\\d+', pattern_data['pattern']['yardage_description'])\n",
        "\n",
        "                  if len(extracted) == 2:\n",
        "                    yardage = extracted\n",
        "                  elif len(extracted) == 1:\n",
        "                    yardage[0] = extracted[0]\n",
        "                    yardage[1] = extracted[0]\n",
        "\n",
        "                  # Get poject name and add all to dataframe\n",
        "                  yarndf = pd.concat([yarndf, pd.DataFrame([{'Project name': pattern_data['pattern']['name'],\n",
        "                                                            'Yarn id': yarnData['id'],\n",
        "                                                            'Crochet gauge': yarnData['crochet_gauge'],\n",
        "                                                            'Knit gauge': yarnData['knit_gauge'],\n",
        "                                                            'Yarn name': yarnData['name'],\n",
        "                                                            'ply': yarnData['ply'], 'wpi': yarnData['wpi'],\n",
        "                                                            'Min yardage': int(yardage[0]),\n",
        "                                                            'Max yardage': int(yardage[1])}])], ignore_index=True)\n",
        "\n",
        "                  #Get key information from pattern details for recommender\n",
        "                  keydf = pd.concat([keydf, pd.DataFrame([{'Project name': pattern_data['pattern']['name'],\n",
        "                                                          'Project id': pattern_data['pattern']['id'],\n",
        "                                                          'Difficulty average': pattern_data['pattern']['difficulty_average'],\n",
        "                                                          'UK': pattern_data['pattern']['has_uk_terminology'],\n",
        "                                                          'US' : pattern_data['pattern']['has_us_terminology']}])], ignore_index=True)\n",
        "                except:\n",
        "                  print(\"No yarn weight recorded\")\n",
        "      else:\n",
        "        print(\"No patterns found\")\n",
        "  else:\n",
        "    print(\"Unable to access patterns\")\n",
        "\n",
        "  keydf = keydf.merge(yarndf, on='Project name')\n",
        "  print(keydf)\n",
        "\n",
        "\n",
        "def fetchInventory():\n",
        "  # Open stored inventory into dataframe\n",
        "  with open(\"inventory.json\", \"r\") as file:\n",
        "    inventory = json.load(file)\n",
        "    inv = pd.DataFrame(inventory)\n",
        "    groupedInv = inv.groupby(['Yarn name','ply', 'wpi', 'Total yardage'])\n",
        "    print(groupedInv.size())\n",
        "\n",
        "\n",
        "fetchInventory()\n"
      ]
    }
  ],
  "metadata": {
    "language_info": {
      "name": "python"
    },
    "colab": {
      "provenance": []
    },
    "kernelspec": {
      "name": "python3",
      "display_name": "Python 3"
    }
  },
  "nbformat": 4,
  "nbformat_minor": 0
}