{
  "cells": [
    {
      "cell_type": "code",
      "source": [
        "!pip install python-dotenv\n",
        "!git init\n",
        "!touch .gitignore\n",
        "!echo \"info.env\" >> .gitignore\n",
        "!git check-ignore -v .env\n"
      ],
      "metadata": {
        "colab": {
          "base_uri": "https://localhost:8080/"
        },
        "collapsed": true,
        "id": "0LSBa-GcHBnG",
        "outputId": "4eb4bf66-fbd6-46ee-832d-a6238a8c9043"
      },
      "execution_count": 1,
      "outputs": [
        {
          "output_type": "stream",
          "name": "stdout",
          "text": [
            "Collecting python-dotenv\n",
            "  Downloading python_dotenv-1.0.1-py3-none-any.whl.metadata (23 kB)\n",
            "Downloading python_dotenv-1.0.1-py3-none-any.whl (19 kB)\n",
            "Installing collected packages: python-dotenv\n",
            "Successfully installed python-dotenv-1.0.1\n",
            "\u001b[33mhint: Using 'master' as the name for the initial branch. This default branch name\u001b[m\n",
            "\u001b[33mhint: is subject to change. To configure the initial branch name to use in all\u001b[m\n",
            "\u001b[33mhint: of your new repositories, which will suppress this warning, call:\u001b[m\n",
            "\u001b[33mhint: \u001b[m\n",
            "\u001b[33mhint: \tgit config --global init.defaultBranch <name>\u001b[m\n",
            "\u001b[33mhint: \u001b[m\n",
            "\u001b[33mhint: Names commonly chosen instead of 'master' are 'main', 'trunk' and\u001b[m\n",
            "\u001b[33mhint: 'development'. The just-created branch can be renamed via this command:\u001b[m\n",
            "\u001b[33mhint: \u001b[m\n",
            "\u001b[33mhint: \tgit branch -m <name>\u001b[m\n",
            "Initialized empty Git repository in /content/.git/\n"
          ]
        }
      ]
    },
    {
      "cell_type": "code",
      "execution_count": 12,
      "metadata": {
        "colab": {
          "base_uri": "https://localhost:8080/"
        },
        "id": "fjDadBzCFVx_",
        "outputId": "3c418392-e15c-40a1-9e53-80c5efc1480a"
      },
      "outputs": [
        {
          "output_type": "stream",
          "name": "stdout",
          "text": [
            "No yarn weight recorded\n",
            "                       Project name  Project id  Difficulty average     UK  \\\n",
            "0               Cute Critter Dragon     7355529            4.666667  False   \n",
            "1                       Book Dragon     1297567            3.818182   None   \n",
            "2        DIRK the Dragon | Dinosaur      304242            4.338346   None   \n",
            "3   Smaug the African Flower Dragon      500696            5.112903  False   \n",
            "4                   Juvenile Dragon      828253            4.950000   None   \n",
            "5                    Newborn Dragon      831245            4.090909   None   \n",
            "6      Miniature Wyrm Wyvern Dragon      996371            3.952381   None   \n",
            "7                  Fairy Cat Dragon     1127890            5.333333   None   \n",
            "8      335 Dragon Dragofon Dinosaur     1362021            5.000000   None   \n",
            "9              Beaded Bo the Dragon     7311429            0.000000   True   \n",
            "10                Mysterious Dragon     7380907            0.000000  False   \n",
            "11                  Fern the Dragon     7404158            0.000000  False   \n",
            "12    Dragon Knight and Firefighter     7339593            0.000000  False   \n",
            "13          Dragon Eye Wall Hanging     7404492            0.000000   None   \n",
            "14                           Dragon     1152956            4.125000   True   \n",
            "15        Daisy the Dangling Dragon     7340446            2.666667   None   \n",
            "16             Fierce Little Dragon      245887            3.996727   None   \n",
            "17          Small But Mighty Dragon      844794            4.677966   None   \n",
            "18       Wonder the Birthday Dragon     1103918            4.384615   None   \n",
            "\n",
            "      US  Yarn id Crochet gauge Knit gauge    Yarn name   ply   wpi  \\\n",
            "0   True       12          None         20      Worsted    10     9   \n",
            "1   True        1                       18         Aran    10     8   \n",
            "2   True        5                       28    Fingering     4    14   \n",
            "3   True        5                       28    Fingering     4    14   \n",
            "4   True       10          None      24-26        Sport     5    12   \n",
            "5   True       10          None      24-26        Sport     5    12   \n",
            "6   True       12          None         20      Worsted    10     9   \n",
            "7   True       12          None         20      Worsted    10     9   \n",
            "8   True        7                    32-34         Lace     2  None   \n",
            "9   None       11          None         22           DK     8    11   \n",
            "10  True       11          None         22           DK     8    11   \n",
            "11  True        5                       28    Fingering     4    14   \n",
            "12  True       11          None         22           DK     8    11   \n",
            "13  True        1                       18         Aran    10     8   \n",
            "14  None        6                     7-12  Super Bulky  None   5-6   \n",
            "15  True        1                       18         Aran    10     8   \n",
            "16  True       11          None         22           DK     8    11   \n",
            "17  True       12          None         20      Worsted    10     9   \n",
            "18  True        1                       18         Aran    10     8   \n",
            "\n",
            "    Min yardage  Max yardage  \n",
            "0           135          150  \n",
            "1          4880         6325  \n",
            "2             0            0  \n",
            "3             0            0  \n",
            "4           180          220  \n",
            "5           100          150  \n",
            "6           100          200  \n",
            "7           500          600  \n",
            "8             0            0  \n",
            "9           421          421  \n",
            "10           87          109  \n",
            "11            0            0  \n",
            "12            0            0  \n",
            "13         8500         8875  \n",
            "14          880         1210  \n",
            "15          120          150  \n",
            "16            0            0  \n",
            "17            0            0  \n",
            "18          300          400  \n"
          ]
        }
      ],
      "source": [
        "import pandas as pd\n",
        "import http.client\n",
        "import json\n",
        "import requests\n",
        "import os\n",
        "from dotenv import load_dotenv\n",
        "import re\n",
        "\n",
        "# Load environment variables\n",
        "load_dotenv(\"info.env\")\n",
        "\n",
        "# Access credentials\n",
        "authUsername = os.getenv(\"API_USERNAME\")\n",
        "authPassword = os.getenv(\"API_PASSWORD\")\n",
        "\n",
        "### Pre-filtering based on inventory ###\n",
        "# Search based on specific filters\n",
        "page = 9\n",
        "page_size = 20\n",
        "craft = 'crochet'\n",
        "knit_gauge = 5\n",
        "weight = 'DK'\n",
        "query = 'dragon'\n",
        "\n",
        "# Define URL for the API request\n",
        "url = 'https://api.ravelry.com/patterns/search.json?page={}&page_size={}&craft={}&query={}'.format(page, page_size, craft, query)\n",
        "# Make request\n",
        "r = requests.get(url, auth=requests.auth.HTTPBasicAuth(authUsername, authPassword))\n",
        "# Close connection\n",
        "r.close()\n",
        "\n",
        "def getPatterns():\n",
        "  yarndf = pd.DataFrame()\n",
        "  keydf = pd.DataFrame()\n",
        "  if r.status_code == 200:\n",
        "      data = r.json()\n",
        "      # Extract pattern ID(s) from the search results\n",
        "      if 'patterns' in data and len(data['patterns']) > 0:\n",
        "        for i in range(len(data['patterns'])):\n",
        "            pattern_id = data['patterns'][i]['id']\n",
        "\n",
        "            # Define URL to get pattern details\n",
        "            pattern_url = f'https://api.ravelry.com/patterns/{pattern_id}.json'\n",
        "\n",
        "            # Make the request for pattern details\n",
        "            pattern_response = requests.get(pattern_url, auth=requests.auth.HTTPBasicAuth(authUsername, authPassword))\n",
        "            pattern_response.close()\n",
        "\n",
        "            # If patterns found, collect the necessary yarn info\n",
        "            if pattern_response.status_code == 200:\n",
        "                pattern_data = pattern_response.json()\n",
        "                try:\n",
        "                  #print(json.dumps(json.loads(pattern_response.text), indent=4))\n",
        "                  yarnData = pattern_data['pattern']['yarn_weight']\n",
        "\n",
        "                  # Extract yardage for minimum/maximums\n",
        "                  yardage = ['0', '0']\n",
        "                  extracted = re.findall(r'\\d+', pattern_data['pattern']['yardage_description'])\n",
        "\n",
        "                  if len(extracted) == 2:\n",
        "                    yardage = extracted\n",
        "                  elif len(extracted) == 1:\n",
        "                    yardage[0] = extracted[0]\n",
        "                    yardage[1] = extracted[0]\n",
        "\n",
        "                  # Get project name and add all to dataframe\n",
        "                  yarndf = pd.concat([yarndf, pd.DataFrame([{'Project name': pattern_data['pattern']['name'],\n",
        "                                                            'Yarn id': yarnData['id'],\n",
        "                                                            'Crochet gauge': yarnData['crochet_gauge'],\n",
        "                                                            'Knit gauge': yarnData['knit_gauge'],\n",
        "                                                            'Yarn name': yarnData['name'],\n",
        "                                                            'ply': yarnData['ply'], 'wpi': yarnData['wpi'],\n",
        "                                                            'Min yardage': int(yardage[0]),\n",
        "                                                            'Max yardage': int(yardage[1])}])], ignore_index=True)\n",
        "\n",
        "                  # Get key information from pattern details for recommender\n",
        "                  keydf = pd.concat([keydf, pd.DataFrame([{'Project name': pattern_data['pattern']['name'],\n",
        "                                                          'Project id': pattern_data['pattern']['id'],\n",
        "                                                          'Difficulty average': pattern_data['pattern']['difficulty_average'],\n",
        "                                                          'UK': pattern_data['pattern']['has_uk_terminology'],\n",
        "                                                          'US' : pattern_data['pattern']['has_us_terminology']}])], ignore_index=True)\n",
        "                except:\n",
        "                  print(\"No yarn weight recorded\")\n",
        "      else:\n",
        "        print(\"No patterns found\")\n",
        "  else:\n",
        "    print(\"Unable to access patterns\")\n",
        "\n",
        "  keydf = keydf.merge(yarndf, on='Project name')\n",
        "  print(keydf)\n",
        "  return keydf\n",
        "\n",
        "\n",
        "def fetchInventory():\n",
        "  # Open stored inventory into dataframe\n",
        "  with open(\"inventory.json\", \"r\") as file:\n",
        "    inventory = json.load(file)\n",
        "    inv = pd.DataFrame(inventory)\n",
        "    groupedInv = inv.groupby(['Yarn name','ply', 'wpi', 'Total yardage']).agg(\n",
        "        min_yardage=('Total yardage', 'min'),\n",
        "        max_yardage=('Total yardage', 'max')).reset_index()\n",
        "\n",
        "    print(groupedInv)\n",
        "    return groupedInv\n",
        "\n",
        "def filterPatterns(groupedInv, patterns):\n",
        "  # Filters patterns for yarn available in inventory\n",
        "  filtereddf = patterns[patterns['Yarn name'].isin(groupedInv['Yarn name'])]\n",
        "  finaldf = pd.DataFrame(columns = patterns.columns)\n",
        "  for idx, row in filtereddf.iterrows():\n",
        "    rowYardage = row['Max yardage']\n",
        "    maxYardage = int(max(groupedInv.loc[groupedInv['Yarn name'] == row['Yarn name'], 'max_yardage'].values))\n",
        "\n",
        "    if (rowYardage > 0) & (rowYardage <= maxYardage):\n",
        "      # Directly adds if empty for future compatibility\n",
        "      if finaldf.empty:\n",
        "        finaldf = pd.DataFrame([row])\n",
        "      else:\n",
        "        finaldf = pd.concat([finaldf, pd.DataFrame([row])], ignore_index = True)\n",
        "\n",
        "  print(finaldf)\n",
        "\n",
        "patterns = getPatterns()\n"
      ]
    },
    {
      "cell_type": "code",
      "source": [
        "groupedInv = fetchInventory()\n",
        "filterPatterns(groupedInv, patterns)"
      ],
      "metadata": {
        "colab": {
          "base_uri": "https://localhost:8080/"
        },
        "id": "yguGHnCiWGV3",
        "outputId": "b14153eb-9c62-46c1-c74b-eee6c9ba95b7"
      },
      "execution_count": 13,
      "outputs": [
        {
          "output_type": "stream",
          "name": "stdout",
          "text": [
            "   Yarn name  ply  wpi  Total yardage  min_yardage  max_yardage\n",
            "0         DK    8   11            500          500          500\n",
            "1         DK    8   12            200          200          200\n",
            "2  Fingering    4   14            800          800          800\n",
            "           Project name  Project id  Difficulty average     UK    US  Yarn id  \\\n",
            "0  Beaded Bo the Dragon     7311429                 0.0   True  None       11   \n",
            "1     Mysterious Dragon     7380907                 0.0  False  True       11   \n",
            "\n",
            "  Crochet gauge Knit gauge Yarn name ply wpi  Min yardage  Max yardage  \n",
            "0          None         22        DK   8  11          421          421  \n",
            "1          None         22        DK   8  11           87          109  \n"
          ]
        }
      ]
    },
    {
      "cell_type": "code",
      "source": [
        "### Basic recommender ###\n",
        "# Take the last 5 patterns saved by the user and use the average calculated metrics to then recommend\n",
        "# In release, should use the saved and completed patterns\n",
        "\n",
        "def readSaved():\n",
        "  with open(\"saved.json\", \"r\") as file:\n",
        "    savedPatterns = json.load(file)\n",
        "    saved = pd.DataFrame(savedPatterns)\n",
        "\n",
        "\n"
      ],
      "metadata": {
        "id": "i4fUQJH1WX5R"
      },
      "execution_count": 14,
      "outputs": []
    },
    {
      "cell_type": "markdown",
      "source": [
        "Notes for retrieving names for the recommender\n",
        "*   Remove any symbols from pattern names cause having \" causes issues with the json\n",
        "*   Any missing data should be 0 or none\n",
        "* Probably include links to the projects when saving to the json\n",
        "\n",
        "\n"
      ],
      "metadata": {
        "id": "0hgPoHkKsrUK"
      }
    },
    {
      "cell_type": "code",
      "source": [],
      "metadata": {
        "id": "MQGl-frLtqTH"
      },
      "execution_count": null,
      "outputs": []
    }
  ],
  "metadata": {
    "language_info": {
      "name": "python"
    },
    "colab": {
      "provenance": []
    },
    "kernelspec": {
      "name": "python3",
      "display_name": "Python 3"
    }
  },
  "nbformat": 4,
  "nbformat_minor": 0
}